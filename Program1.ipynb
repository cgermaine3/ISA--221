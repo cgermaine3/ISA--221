{
 "cells": [
  {
   "cell_type": "markdown",
   "metadata": {},
   "source": [
    "## Cam Germaine Program 1"
   ]
  },
  {
   "cell_type": "markdown",
   "metadata": {},
   "source": [
    "####  Description: The program will calculate the total hours worked for the month, average hours per week, and the total invoice amount."
   ]
  },
  {
   "cell_type": "markdown",
   "metadata": {},
   "source": [
    "##### This code will receive the input for the employee name, hourly rate, and number of hours worked for 4 weeks.\n",
    "##### The total hours worked, average hours worked, and amount due will be calculated for further output as well."
   ]
  },
  {
   "cell_type": "code",
   "execution_count": 29,
   "metadata": {},
   "outputs": [
    {
     "name": "stdin",
     "output_type": "stream",
     "text": [
      "Employee Name:  Cam Germaine\n",
      "Hourly Rate:  45.5\n",
      "Enter hours worked for week  1:  40\n",
      "Enter hours worked for week  2:  40\n",
      "Enter hours worked for week  3:  40\n",
      "Enter hours worked for week  4:  32\n"
     ]
    }
   ],
   "source": [
    "Employeename=input('Employee Name: ')\n",
    "Hourlyrate=float(input('Hourly Rate: '))\n",
    "week1=float(input('Enter hours worked for week  1: '))\n",
    "week2=float(input('Enter hours worked for week  2: '))\n",
    "week3=float(input('Enter hours worked for week  3: '))\n",
    "week4=float(input('Enter hours worked for week  4: '))\n",
    "totalhours= (week1+ week2 + week3 +week4)\n",
    "average= (week1+ week2 + week3 +week4) /4.0\n",
    "amountdue= totalhours* Hourlyrate"
   ]
  },
  {
   "cell_type": "markdown",
   "metadata": {},
   "source": [
    "#### This code will display the invoice, which will show the employee name, total hours, average hours per week, rate, and amount due."
   ]
  },
  {
   "cell_type": "code",
   "execution_count": 30,
   "metadata": {},
   "outputs": [
    {
     "name": "stdout",
     "output_type": "stream",
     "text": [
      "\n",
      "Invoice\n",
      "Resource: Cam Germaine    Average Weekly Hours:38.00\n",
      "\n",
      "Total billable hours:152.00    rate: $45.50\n",
      "Amount Due: $6,916.00\n"
     ]
    }
   ],
   "source": [
    "print()\n",
    "print('Invoice')\n",
    "print('Resource:', Employeename, end='    ')\n",
    "print('Average Weekly Hours:',format(average, ',.2f'),sep='')\n",
    "print()\n",
    "print('Total billable hours:',format(totalhours, ',.2f'),sep='', end='    ')\n",
    "print('rate: $',format(Hourlyrate, ',.2f'),sep='')\n",
    "print('Amount Due: $',format(amountdue, ',.2f'),sep='')"
   ]
  }
 ],
 "metadata": {
  "kernelspec": {
   "display_name": "Python 3",
   "language": "python",
   "name": "python3"
  },
  "language_info": {
   "codemirror_mode": {
    "name": "ipython",
    "version": 3
   },
   "file_extension": ".py",
   "mimetype": "text/x-python",
   "name": "python",
   "nbconvert_exporter": "python",
   "pygments_lexer": "ipython3",
   "version": "3.7.3"
  }
 },
 "nbformat": 4,
 "nbformat_minor": 4
}
